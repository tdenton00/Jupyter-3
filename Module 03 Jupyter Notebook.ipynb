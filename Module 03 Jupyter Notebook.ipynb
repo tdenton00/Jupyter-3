{
 "cells": [
  {
   "cell_type": "code",
   "execution_count": null,
   "metadata": {},
   "outputs": [],
   "source": [
    "#7.4\n",
    "things = [\"mozzarella\", \"cinderella\", \"salmonella\"]"
   ]
  },
  {
   "cell_type": "code",
   "execution_count": 1,
   "metadata": {},
   "outputs": [
    {
     "name": "stdout",
     "output_type": "stream",
     "text": [
      "['mozzarella', 'Cinderella', 'salmonella']\n"
     ]
    }
   ],
   "source": [
    "#7.5\n",
    "things = [\"mozzarella\", \"Cinderella\", \"salmonella\"]\n",
    "print(things)"
   ]
  },
  {
   "cell_type": "markdown",
   "metadata": {},
   "source": [
    "#7.5 \n",
    "Yes the element in the list."
   ]
  },
  {
   "cell_type": "code",
   "execution_count": 2,
   "metadata": {},
   "outputs": [
    {
     "name": "stdout",
     "output_type": "stream",
     "text": [
      "['MOZZARELLA', 'cinderella', 'salmonella']\n"
     ]
    }
   ],
   "source": [
    "#7.6\n",
    "things = [\"MOZZARELLA\", \"cinderella\", \"salmonella\"]\n",
    "print(things)"
   ]
  },
  {
   "cell_type": "code",
   "execution_count": 3,
   "metadata": {},
   "outputs": [
    {
     "name": "stdout",
     "output_type": "stream",
     "text": [
      "['mozzarella', 'cinderella']\n"
     ]
    }
   ],
   "source": [
    "#7.7\n",
    "things = [\"mozzarella\", \"cinderella\"]\n",
    "print(things)"
   ]
  },
  {
   "cell_type": "code",
   "execution_count": 6,
   "metadata": {},
   "outputs": [
    {
     "name": "stdout",
     "output_type": "stream",
     "text": [
      "['Harry', 'Ron', 'Hermione']\n"
     ]
    }
   ],
   "source": [
    "#9.1\n",
    "def good():\n",
    "    list = ['Harry', 'Ron', 'Hermione']\n",
    "    print(list)\n",
    "good()"
   ]
  },
  {
   "cell_type": "code",
   "execution_count": 9,
   "metadata": {},
   "outputs": [
    {
     "name": "stdout",
     "output_type": "stream",
     "text": [
      "5\n"
     ]
    }
   ],
   "source": [
    "#9.2\n",
    "def get_odds():\n",
    "    for number in range(10):\n",
    "        if number % 2 != 0:\n",
    "            yield number\n",
    "            \n",
    "odds = get_odds()\n",
    "\n",
    "count = 0\n",
    "for value in odds:\n",
    "    count += 1\n",
    "    if count == 3:\n",
    "        print(value)\n",
    "        break"
   ]
  }
 ],
 "metadata": {
  "kernelspec": {
   "display_name": "Python 3",
   "language": "python",
   "name": "python3"
  },
  "language_info": {
   "codemirror_mode": {
    "name": "ipython",
    "version": 3
   },
   "file_extension": ".py",
   "mimetype": "text/x-python",
   "name": "python",
   "nbconvert_exporter": "python",
   "pygments_lexer": "ipython3",
   "version": "3.12.4"
  }
 },
 "nbformat": 4,
 "nbformat_minor": 2
}
